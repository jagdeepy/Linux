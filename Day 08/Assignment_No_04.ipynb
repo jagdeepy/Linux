{
 "cells": [
  {
   "cell_type": "raw",
   "metadata": {},
   "source": [
    "Assignment 0\n",
    "1. Create a simple shell script to tell the user about their session – they\n",
    "need to know:\n",
    "● What their username is\n",
    "● What the current date is\n",
    "● What the time is\n",
    "● What their current working directory is\n",
    "● How many files they have in that directory\n",
    "● What is the biggest file in their current directory"
   ]
  },
  {
   "cell_type": "raw",
   "metadata": {},
   "source": [
    "#!/bin/bash\n",
    "\n",
    "# example of using arguments to a script\n",
    "today=`date '+%Y_%m_%d__%H_%M_%S'`;\n",
    "filename=\"/home//Desktop/LetsUpgrade/Linux/Day 08$ /$today.ponies\"\n",
    "echo $filename;\n",
    " \n",
    "echo \"Your username : $(echo $USER)\"\n",
    " \n",
    "echo \"Current date and time : $(date)\"\n",
    " \n",
    "echo \"Currently logged on users:\"\n"
   ]
  },
  {
   "cell_type": "raw",
   "metadata": {},
   "source": [
    "(base) jagdeep@jagdeep-HP-630-Notebook-PC:~/Desktop/LetsUpgrade/Linux/Day 08$ sh Assignment0.sh\n",
    "/home//Desktop/LetsUpgrade/Linux/Day 08$ /2020_12_13__01_44_01.ponies\n",
    "Your username : jagdeep\n",
    "Current date and time : Sun Dec 13 01:44:01 IST 2020\n",
    "Currently logged on users:\n",
    "(base) jagdeep@jagdeep-HP-630-Notebook-PC:~/Desktop/LetsUpgrade/Linux/Day 08$ \n"
   ]
  },
  {
   "cell_type": "markdown",
   "metadata": {},
   "source": [
    "Assignment 2\n",
    "Write a script that takes a number as an input and reverses it out to the user. For example, if the\n",
    "original number is 74985, the output should be 58947."
   ]
  },
  {
   "cell_type": "code",
   "execution_count": 1,
   "metadata": {},
   "outputs": [],
   "source": [
    "#output"
   ]
  },
  {
   "cell_type": "raw",
   "metadata": {},
   "source": [
    "(base) jagdeep@jagdeep-HP-630-Notebook-PC:~/Desktop/LetsUpgrade/Linux/Day 08$ sh Assignment2.sh\n",
    "Enter number : 45678\n",
    "45678 in a reverse order 87654\n"
   ]
  },
  {
   "cell_type": "code",
   "execution_count": 2,
   "metadata": {},
   "outputs": [],
   "source": [
    "#shell script file"
   ]
  },
  {
   "cell_type": "raw",
   "metadata": {},
   "source": [
    "echo -n \"Enter number : \"\n",
    "read n\n",
    " \n",
    "# store single digit\n",
    "sd=0\n",
    " \n",
    "# store number in reverse order\n",
    "rev=\"\"\n",
    " \n",
    "# store original number\n",
    "on=$n\n",
    " \n",
    "# use while loop to caclulate the sum of all digits\n",
    "while [ $n -gt 0 ]\n",
    "do\n",
    "    sd=$(( $n % 10 )) # get Remainder \n",
    "    n=$(( $n / 10 ))  # get next digit\n",
    "    # store previoues number and current digit in rev\n",
    "    rev=$( echo ${rev}${sd} ) \n",
    "done\n",
    " \n",
    "echo  \"$on in a reverse order $rev\""
   ]
  },
  {
   "cell_type": "code",
   "execution_count": null,
   "metadata": {},
   "outputs": [],
   "source": []
  },
  {
   "cell_type": "code",
   "execution_count": null,
   "metadata": {},
   "outputs": [],
   "source": []
  }
 ],
 "metadata": {
  "kernelspec": {
   "display_name": "Python 3",
   "language": "python",
   "name": "python3"
  },
  "language_info": {
   "codemirror_mode": {
    "name": "ipython",
    "version": 3
   },
   "file_extension": ".py",
   "mimetype": "text/x-python",
   "name": "python",
   "nbconvert_exporter": "python",
   "pygments_lexer": "ipython3",
   "version": "3.7.6"
  }
 },
 "nbformat": 4,
 "nbformat_minor": 4
}
